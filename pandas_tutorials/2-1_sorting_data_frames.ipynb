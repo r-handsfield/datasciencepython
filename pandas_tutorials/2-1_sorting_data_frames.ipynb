{
 "cells": [
  {
   "cell_type": "markdown",
   "metadata": {},
   "source": [
    "## 2.1 Sorting Data Frames"
   ]
  },
  {
   "cell_type": "markdown",
   "metadata": {},
   "source": [
    "Use the `sort_index()` method"
   ]
  },
  {
   "cell_type": "code",
   "execution_count": 3,
   "metadata": {
    "collapsed": true
   },
   "outputs": [],
   "source": [
    "import pandas"
   ]
  },
  {
   "cell_type": "code",
   "execution_count": 5,
   "metadata": {
    "collapsed": false
   },
   "outputs": [
    {
     "data": {
      "text/html": [
       "<div style=\"max-height:1000px;max-width:1500px;overflow:auto;\">\n",
       "<table border=\"1\" class=\"dataframe\">\n",
       "  <thead>\n",
       "    <tr style=\"text-align: right;\">\n",
       "      <th></th>\n",
       "      <th>survived</th>\n",
       "      <th>pclass</th>\n",
       "      <th>name</th>\n",
       "      <th>sex</th>\n",
       "      <th>age</th>\n",
       "      <th>sibsp</th>\n",
       "      <th>parch</th>\n",
       "      <th>ticket</th>\n",
       "      <th>fare</th>\n",
       "      <th>cabin</th>\n",
       "      <th>embarked</th>\n",
       "    </tr>\n",
       "  </thead>\n",
       "  <tbody>\n",
       "    <tr>\n",
       "      <th>0</th>\n",
       "      <td> 0</td>\n",
       "      <td> 3</td>\n",
       "      <td>                           Braund, Mr. Owen Harris</td>\n",
       "      <td>   male</td>\n",
       "      <td> 22</td>\n",
       "      <td> 1</td>\n",
       "      <td> 0</td>\n",
       "      <td>        A/5 21171</td>\n",
       "      <td>  7.2500</td>\n",
       "      <td>  NaN</td>\n",
       "      <td> S</td>\n",
       "    </tr>\n",
       "    <tr>\n",
       "      <th>1</th>\n",
       "      <td> 1</td>\n",
       "      <td> 1</td>\n",
       "      <td> Cumings, Mrs. John Bradley (Florence Briggs Th...</td>\n",
       "      <td> female</td>\n",
       "      <td> 38</td>\n",
       "      <td> 1</td>\n",
       "      <td> 0</td>\n",
       "      <td>         PC 17599</td>\n",
       "      <td> 71.2833</td>\n",
       "      <td>  C85</td>\n",
       "      <td> C</td>\n",
       "    </tr>\n",
       "    <tr>\n",
       "      <th>2</th>\n",
       "      <td> 1</td>\n",
       "      <td> 3</td>\n",
       "      <td>                            Heikkinen, Miss. Laina</td>\n",
       "      <td> female</td>\n",
       "      <td> 26</td>\n",
       "      <td> 0</td>\n",
       "      <td> 0</td>\n",
       "      <td> STON/O2. 3101282</td>\n",
       "      <td>  7.9250</td>\n",
       "      <td>  NaN</td>\n",
       "      <td> S</td>\n",
       "    </tr>\n",
       "    <tr>\n",
       "      <th>3</th>\n",
       "      <td> 1</td>\n",
       "      <td> 1</td>\n",
       "      <td>      Futrelle, Mrs. Jacques Heath (Lily May Peel)</td>\n",
       "      <td> female</td>\n",
       "      <td> 35</td>\n",
       "      <td> 1</td>\n",
       "      <td> 0</td>\n",
       "      <td>           113803</td>\n",
       "      <td> 53.1000</td>\n",
       "      <td> C123</td>\n",
       "      <td> S</td>\n",
       "    </tr>\n",
       "    <tr>\n",
       "      <th>4</th>\n",
       "      <td> 0</td>\n",
       "      <td> 3</td>\n",
       "      <td>                          Allen, Mr. William Henry</td>\n",
       "      <td>   male</td>\n",
       "      <td> 35</td>\n",
       "      <td> 0</td>\n",
       "      <td> 0</td>\n",
       "      <td>           373450</td>\n",
       "      <td>  8.0500</td>\n",
       "      <td>  NaN</td>\n",
       "      <td> S</td>\n",
       "    </tr>\n",
       "  </tbody>\n",
       "</table>\n",
       "</div>"
      ],
      "text/plain": [
       "   survived  pclass                                               name  \\\n",
       "0         0       3                            Braund, Mr. Owen Harris   \n",
       "1         1       1  Cumings, Mrs. John Bradley (Florence Briggs Th...   \n",
       "2         1       3                             Heikkinen, Miss. Laina   \n",
       "3         1       1       Futrelle, Mrs. Jacques Heath (Lily May Peel)   \n",
       "4         0       3                           Allen, Mr. William Henry   \n",
       "\n",
       "      sex  age  sibsp  parch            ticket     fare cabin embarked  \n",
       "0    male   22      1      0         A/5 21171   7.2500   NaN        S  \n",
       "1  female   38      1      0          PC 17599  71.2833   C85        C  \n",
       "2  female   26      0      0  STON/O2. 3101282   7.9250   NaN        S  \n",
       "3  female   35      1      0            113803  53.1000  C123        S  \n",
       "4    male   35      0      0            373450   8.0500   NaN        S  "
      ]
     },
     "execution_count": 5,
     "metadata": {},
     "output_type": "execute_result"
    }
   ],
   "source": [
    "# load the kaggle.com titanic dataset\n",
    "url = \"https://raw.github.com/mattdelhey/kaggle-titanic/master/Data/train.csv\"\n",
    "titanic = pandas.read_csv(url)\n",
    "\n",
    "titanic.head()"
   ]
  },
  {
   "cell_type": "markdown",
   "metadata": {},
   "source": [
    "###  2.13 Use value_counts to summarize by unique factor"
   ]
  },
  {
   "cell_type": "code",
   "execution_count": 7,
   "metadata": {
    "collapsed": false
   },
   "outputs": [
    {
     "data": {
      "text/plain": [
       "3    491\n",
       "1    216\n",
       "2    184\n",
       "dtype: int64"
      ]
     },
     "execution_count": 7,
     "metadata": {},
     "output_type": "execute_result"
    }
   ],
   "source": [
    "titanic.pclass.value_counts()"
   ]
  },
  {
   "cell_type": "markdown",
   "metadata": {},
   "source": [
    "###  2.14 Subset dataframe: df.loc[ rows, cols]"
   ]
  },
  {
   "cell_type": "markdown",
   "metadata": {},
   "source": [
    "Subsets can be:\n",
    "\n",
    "* df.loc[r, ]\n",
    "* df.loc[r, : ]\n",
    "* df.loc[ : , c]\n",
    "* df.loc[ r1:rn , c1: ]\n",
    "* df.loc[ [r3,r4,r1] , :cn ]\n",
    "\n",
    "(\":\" means \"all\")"
   ]
  },
  {
   "cell_type": "code",
   "execution_count": 60,
   "metadata": {
    "collapsed": false
   },
   "outputs": [
    {
     "data": {
      "text/html": [
       "<div style=\"max-height:1000px;max-width:1500px;overflow:auto;\">\n",
       "<table border=\"1\" class=\"dataframe\">\n",
       "  <thead>\n",
       "    <tr style=\"text-align: right;\">\n",
       "      <th></th>\n",
       "      <th>survived</th>\n",
       "      <th>pclass</th>\n",
       "      <th>name</th>\n",
       "      <th>sex</th>\n",
       "      <th>age</th>\n",
       "      <th>sibsp</th>\n",
       "      <th>parch</th>\n",
       "      <th>ticket</th>\n",
       "      <th>fare</th>\n",
       "      <th>cabin</th>\n",
       "      <th>embarked</th>\n",
       "    </tr>\n",
       "    <tr>\n",
       "      <th>name</th>\n",
       "      <th></th>\n",
       "      <th></th>\n",
       "      <th></th>\n",
       "      <th></th>\n",
       "      <th></th>\n",
       "      <th></th>\n",
       "      <th></th>\n",
       "      <th></th>\n",
       "      <th></th>\n",
       "      <th></th>\n",
       "      <th></th>\n",
       "    </tr>\n",
       "  </thead>\n",
       "  <tbody>\n",
       "    <tr>\n",
       "      <th>Williams, Mr. Charles Eugene</th>\n",
       "      <td> 1</td>\n",
       "      <td> 2</td>\n",
       "      <td>      Williams, Mr. Charles Eugene</td>\n",
       "      <td>   male</td>\n",
       "      <td>  NaN</td>\n",
       "      <td> 0</td>\n",
       "      <td> 0</td>\n",
       "      <td>     244373</td>\n",
       "      <td> 13</td>\n",
       "      <td>  NaN</td>\n",
       "      <td> S</td>\n",
       "    </tr>\n",
       "    <tr>\n",
       "      <th>Beesley, Mr. Lawrence</th>\n",
       "      <td> 1</td>\n",
       "      <td> 2</td>\n",
       "      <td>             Beesley, Mr. Lawrence</td>\n",
       "      <td>   male</td>\n",
       "      <td> 34.0</td>\n",
       "      <td> 0</td>\n",
       "      <td> 0</td>\n",
       "      <td>     248698</td>\n",
       "      <td> 13</td>\n",
       "      <td>  D56</td>\n",
       "      <td> S</td>\n",
       "    </tr>\n",
       "    <tr>\n",
       "      <th>Webber, Miss. Susan</th>\n",
       "      <td> 1</td>\n",
       "      <td> 2</td>\n",
       "      <td>               Webber, Miss. Susan</td>\n",
       "      <td> female</td>\n",
       "      <td> 32.5</td>\n",
       "      <td> 0</td>\n",
       "      <td> 0</td>\n",
       "      <td>      27267</td>\n",
       "      <td> 13</td>\n",
       "      <td> E101</td>\n",
       "      <td> S</td>\n",
       "    </tr>\n",
       "    <tr>\n",
       "      <th>Sobey, Mr. Samuel James Hayden</th>\n",
       "      <td> 0</td>\n",
       "      <td> 2</td>\n",
       "      <td>    Sobey, Mr. Samuel James Hayden</td>\n",
       "      <td>   male</td>\n",
       "      <td> 25.0</td>\n",
       "      <td> 0</td>\n",
       "      <td> 0</td>\n",
       "      <td> C.A. 29178</td>\n",
       "      <td> 13</td>\n",
       "      <td>  NaN</td>\n",
       "      <td> S</td>\n",
       "    </tr>\n",
       "    <tr>\n",
       "      <th>Byles, Rev. Thomas Roussel Davids</th>\n",
       "      <td> 0</td>\n",
       "      <td> 2</td>\n",
       "      <td> Byles, Rev. Thomas Roussel Davids</td>\n",
       "      <td>   male</td>\n",
       "      <td> 42.0</td>\n",
       "      <td> 0</td>\n",
       "      <td> 0</td>\n",
       "      <td>     244310</td>\n",
       "      <td> 13</td>\n",
       "      <td>  NaN</td>\n",
       "      <td> S</td>\n",
       "    </tr>\n",
       "  </tbody>\n",
       "</table>\n",
       "</div>"
      ],
      "text/plain": [
       "                                   survived  pclass  \\\n",
       "name                                                  \n",
       "Williams, Mr. Charles Eugene              1       2   \n",
       "Beesley, Mr. Lawrence                     1       2   \n",
       "Webber, Miss. Susan                       1       2   \n",
       "Sobey, Mr. Samuel James Hayden            0       2   \n",
       "Byles, Rev. Thomas Roussel Davids         0       2   \n",
       "\n",
       "                                                                name     sex  \\\n",
       "name                                                                           \n",
       "Williams, Mr. Charles Eugene            Williams, Mr. Charles Eugene    male   \n",
       "Beesley, Mr. Lawrence                          Beesley, Mr. Lawrence    male   \n",
       "Webber, Miss. Susan                              Webber, Miss. Susan  female   \n",
       "Sobey, Mr. Samuel James Hayden        Sobey, Mr. Samuel James Hayden    male   \n",
       "Byles, Rev. Thomas Roussel Davids  Byles, Rev. Thomas Roussel Davids    male   \n",
       "\n",
       "                                    age  sibsp  parch      ticket  fare cabin  \\\n",
       "name                                                                            \n",
       "Williams, Mr. Charles Eugene        NaN      0      0      244373    13   NaN   \n",
       "Beesley, Mr. Lawrence              34.0      0      0      248698    13   D56   \n",
       "Webber, Miss. Susan                32.5      0      0       27267    13  E101   \n",
       "Sobey, Mr. Samuel James Hayden     25.0      0      0  C.A. 29178    13   NaN   \n",
       "Byles, Rev. Thomas Roussel Davids  42.0      0      0      244310    13   NaN   \n",
       "\n",
       "                                  embarked  \n",
       "name                                        \n",
       "Williams, Mr. Charles Eugene             S  \n",
       "Beesley, Mr. Lawrence                    S  \n",
       "Webber, Miss. Susan                      S  \n",
       "Sobey, Mr. Samuel James Hayden           S  \n",
       "Byles, Rev. Thomas Roussel Davids        S  "
      ]
     },
     "execution_count": 60,
     "metadata": {},
     "output_type": "execute_result"
    }
   ],
   "source": [
    "# subsetting rows\n",
    "fare13 = titanic.loc[titanic.fare == 13, ]\n",
    "\n",
    "fare13 = fare13.set_index(fare13.name)\n",
    "\n",
    "fare13.head()"
   ]
  },
  {
   "cell_type": "code",
   "execution_count": 62,
   "metadata": {
    "collapsed": false
   },
   "outputs": [
    {
     "data": {
      "text/html": [
       "<div style=\"max-height:1000px;max-width:1500px;overflow:auto;\">\n",
       "<table border=\"1\" class=\"dataframe\">\n",
       "  <thead>\n",
       "    <tr style=\"text-align: right;\">\n",
       "      <th></th>\n",
       "      <th>name</th>\n",
       "      <th>survived</th>\n",
       "      <th>sex</th>\n",
       "    </tr>\n",
       "  </thead>\n",
       "  <tbody>\n",
       "    <tr>\n",
       "      <th>0</th>\n",
       "      <td>                           Braund, Mr. Owen Harris</td>\n",
       "      <td> 0</td>\n",
       "      <td>   male</td>\n",
       "    </tr>\n",
       "    <tr>\n",
       "      <th>1</th>\n",
       "      <td> Cumings, Mrs. John Bradley (Florence Briggs Th...</td>\n",
       "      <td> 1</td>\n",
       "      <td> female</td>\n",
       "    </tr>\n",
       "    <tr>\n",
       "      <th>2</th>\n",
       "      <td>                            Heikkinen, Miss. Laina</td>\n",
       "      <td> 1</td>\n",
       "      <td> female</td>\n",
       "    </tr>\n",
       "    <tr>\n",
       "      <th>3</th>\n",
       "      <td>      Futrelle, Mrs. Jacques Heath (Lily May Peel)</td>\n",
       "      <td> 1</td>\n",
       "      <td> female</td>\n",
       "    </tr>\n",
       "    <tr>\n",
       "      <th>4</th>\n",
       "      <td>                          Allen, Mr. William Henry</td>\n",
       "      <td> 0</td>\n",
       "      <td>   male</td>\n",
       "    </tr>\n",
       "  </tbody>\n",
       "</table>\n",
       "</div>"
      ],
      "text/plain": [
       "                                                name  survived     sex\n",
       "0                            Braund, Mr. Owen Harris         0    male\n",
       "1  Cumings, Mrs. John Bradley (Florence Briggs Th...         1  female\n",
       "2                             Heikkinen, Miss. Laina         1  female\n",
       "3       Futrelle, Mrs. Jacques Heath (Lily May Peel)         1  female\n",
       "4                           Allen, Mr. William Henry         0    male"
      ]
     },
     "execution_count": 62,
     "metadata": {},
     "output_type": "execute_result"
    }
   ],
   "source": [
    "# subsetting columns\n",
    "\n",
    "titanic.loc[ : , ['name', 'survived', 'sex'] ].head()"
   ]
  },
  {
   "cell_type": "code",
   "execution_count": null,
   "metadata": {
    "collapsed": false
   },
   "outputs": [],
   "source": []
  },
  {
   "cell_type": "markdown",
   "metadata": {},
   "source": [
    "### 2.15 Sorting - the sort_index() function"
   ]
  },
  {
   "cell_type": "code",
   "execution_count": 26,
   "metadata": {
    "collapsed": false
   },
   "outputs": [
    {
     "data": {
      "text/html": [
       "<div style=\"max-height:1000px;max-width:1500px;overflow:auto;\">\n",
       "<table border=\"1\" class=\"dataframe\">\n",
       "  <thead>\n",
       "    <tr style=\"text-align: right;\">\n",
       "      <th></th>\n",
       "      <th>survived</th>\n",
       "      <th>pclass</th>\n",
       "      <th>name</th>\n",
       "      <th>sex</th>\n",
       "      <th>age</th>\n",
       "      <th>sibsp</th>\n",
       "      <th>parch</th>\n",
       "      <th>ticket</th>\n",
       "      <th>fare</th>\n",
       "      <th>cabin</th>\n",
       "      <th>embarked</th>\n",
       "    </tr>\n",
       "    <tr>\n",
       "      <th>name</th>\n",
       "      <th></th>\n",
       "      <th></th>\n",
       "      <th></th>\n",
       "      <th></th>\n",
       "      <th></th>\n",
       "      <th></th>\n",
       "      <th></th>\n",
       "      <th></th>\n",
       "      <th></th>\n",
       "      <th></th>\n",
       "      <th></th>\n",
       "    </tr>\n",
       "  </thead>\n",
       "  <tbody>\n",
       "    <tr>\n",
       "      <th>Williams, Mr. Charles Eugene</th>\n",
       "      <td> 1</td>\n",
       "      <td> 2</td>\n",
       "      <td> Williams, Mr. Charles Eugene</td>\n",
       "      <td>   male</td>\n",
       "      <td>  NaN</td>\n",
       "      <td> 0</td>\n",
       "      <td> 0</td>\n",
       "      <td> 244373</td>\n",
       "      <td> 13</td>\n",
       "      <td>  NaN</td>\n",
       "      <td> S</td>\n",
       "    </tr>\n",
       "    <tr>\n",
       "      <th>Beesley, Mr. Lawrence</th>\n",
       "      <td> 1</td>\n",
       "      <td> 2</td>\n",
       "      <td>        Beesley, Mr. Lawrence</td>\n",
       "      <td>   male</td>\n",
       "      <td> 34.0</td>\n",
       "      <td> 0</td>\n",
       "      <td> 0</td>\n",
       "      <td> 248698</td>\n",
       "      <td> 13</td>\n",
       "      <td>  D56</td>\n",
       "      <td> S</td>\n",
       "    </tr>\n",
       "    <tr>\n",
       "      <th>Webber, Miss. Susan</th>\n",
       "      <td> 1</td>\n",
       "      <td> 2</td>\n",
       "      <td>          Webber, Miss. Susan</td>\n",
       "      <td> female</td>\n",
       "      <td> 32.5</td>\n",
       "      <td> 0</td>\n",
       "      <td> 0</td>\n",
       "      <td>  27267</td>\n",
       "      <td> 13</td>\n",
       "      <td> E101</td>\n",
       "      <td> S</td>\n",
       "    </tr>\n",
       "  </tbody>\n",
       "</table>\n",
       "</div>"
      ],
      "text/plain": [
       "                              survived  pclass                          name  \\\n",
       "name                                                                           \n",
       "Williams, Mr. Charles Eugene         1       2  Williams, Mr. Charles Eugene   \n",
       "Beesley, Mr. Lawrence                1       2         Beesley, Mr. Lawrence   \n",
       "Webber, Miss. Susan                  1       2           Webber, Miss. Susan   \n",
       "\n",
       "                                 sex   age  sibsp  parch  ticket  fare cabin  \\\n",
       "name                                                                           \n",
       "Williams, Mr. Charles Eugene    male   NaN      0      0  244373    13   NaN   \n",
       "Beesley, Mr. Lawrence           male  34.0      0      0  248698    13   D56   \n",
       "Webber, Miss. Susan           female  32.5      0      0   27267    13  E101   \n",
       "\n",
       "                             embarked  \n",
       "name                                   \n",
       "Williams, Mr. Charles Eugene        S  \n",
       "Beesley, Mr. Lawrence               S  \n",
       "Webber, Miss. Susan                 S  "
      ]
     },
     "execution_count": 26,
     "metadata": {},
     "output_type": "execute_result"
    }
   ],
   "source": [
    "# index has been set to \"name\" columns\n",
    "\n",
    "fare13.head(3)"
   ]
  },
  {
   "cell_type": "code",
   "execution_count": 27,
   "metadata": {
    "collapsed": false
   },
   "outputs": [
    {
     "data": {
      "text/html": [
       "<div style=\"max-height:1000px;max-width:1500px;overflow:auto;\">\n",
       "<table border=\"1\" class=\"dataframe\">\n",
       "  <thead>\n",
       "    <tr style=\"text-align: right;\">\n",
       "      <th></th>\n",
       "      <th>survived</th>\n",
       "      <th>pclass</th>\n",
       "      <th>name</th>\n",
       "      <th>sex</th>\n",
       "      <th>age</th>\n",
       "      <th>sibsp</th>\n",
       "      <th>parch</th>\n",
       "      <th>ticket</th>\n",
       "      <th>fare</th>\n",
       "      <th>cabin</th>\n",
       "      <th>embarked</th>\n",
       "    </tr>\n",
       "    <tr>\n",
       "      <th>name</th>\n",
       "      <th></th>\n",
       "      <th></th>\n",
       "      <th></th>\n",
       "      <th></th>\n",
       "      <th></th>\n",
       "      <th></th>\n",
       "      <th></th>\n",
       "      <th></th>\n",
       "      <th></th>\n",
       "      <th></th>\n",
       "      <th></th>\n",
       "    </tr>\n",
       "  </thead>\n",
       "  <tbody>\n",
       "    <tr>\n",
       "      <th>Ball, Mrs. (Ada E Hall)</th>\n",
       "      <td> 1</td>\n",
       "      <td> 2</td>\n",
       "      <td>    Ball, Mrs. (Ada E Hall)</td>\n",
       "      <td> female</td>\n",
       "      <td> 36</td>\n",
       "      <td> 0</td>\n",
       "      <td> 0</td>\n",
       "      <td>  28551</td>\n",
       "      <td> 13</td>\n",
       "      <td>   D</td>\n",
       "      <td> S</td>\n",
       "    </tr>\n",
       "    <tr>\n",
       "      <th>Beesley, Mr. Lawrence</th>\n",
       "      <td> 1</td>\n",
       "      <td> 2</td>\n",
       "      <td>      Beesley, Mr. Lawrence</td>\n",
       "      <td>   male</td>\n",
       "      <td> 34</td>\n",
       "      <td> 0</td>\n",
       "      <td> 0</td>\n",
       "      <td> 248698</td>\n",
       "      <td> 13</td>\n",
       "      <td> D56</td>\n",
       "      <td> S</td>\n",
       "    </tr>\n",
       "    <tr>\n",
       "      <th>Berriman, Mr. William John</th>\n",
       "      <td> 0</td>\n",
       "      <td> 2</td>\n",
       "      <td> Berriman, Mr. William John</td>\n",
       "      <td>   male</td>\n",
       "      <td> 23</td>\n",
       "      <td> 0</td>\n",
       "      <td> 0</td>\n",
       "      <td>  28425</td>\n",
       "      <td> 13</td>\n",
       "      <td> NaN</td>\n",
       "      <td> S</td>\n",
       "    </tr>\n",
       "  </tbody>\n",
       "</table>\n",
       "</div>"
      ],
      "text/plain": [
       "                            survived  pclass                        name  \\\n",
       "name                                                                       \n",
       "Ball, Mrs. (Ada E Hall)            1       2     Ball, Mrs. (Ada E Hall)   \n",
       "Beesley, Mr. Lawrence              1       2       Beesley, Mr. Lawrence   \n",
       "Berriman, Mr. William John         0       2  Berriman, Mr. William John   \n",
       "\n",
       "                               sex  age  sibsp  parch  ticket  fare cabin  \\\n",
       "name                                                                        \n",
       "Ball, Mrs. (Ada E Hall)     female   36      0      0   28551    13     D   \n",
       "Beesley, Mr. Lawrence         male   34      0      0  248698    13   D56   \n",
       "Berriman, Mr. William John    male   23      0      0   28425    13   NaN   \n",
       "\n",
       "                           embarked  \n",
       "name                                 \n",
       "Ball, Mrs. (Ada E Hall)           S  \n",
       "Beesley, Mr. Lawrence             S  \n",
       "Berriman, Mr. William John        S  "
      ]
     },
     "execution_count": 27,
     "metadata": {},
     "output_type": "execute_result"
    }
   ],
   "source": [
    "# sort by row labels\n",
    "\n",
    "fare13.sort_index().head(3)"
   ]
  },
  {
   "cell_type": "code",
   "execution_count": 28,
   "metadata": {
    "collapsed": false
   },
   "outputs": [
    {
     "data": {
      "text/html": [
       "<div style=\"max-height:1000px;max-width:1500px;overflow:auto;\">\n",
       "<table border=\"1\" class=\"dataframe\">\n",
       "  <thead>\n",
       "    <tr style=\"text-align: right;\">\n",
       "      <th></th>\n",
       "      <th>age</th>\n",
       "      <th>cabin</th>\n",
       "      <th>embarked</th>\n",
       "      <th>fare</th>\n",
       "      <th>name</th>\n",
       "      <th>parch</th>\n",
       "      <th>pclass</th>\n",
       "      <th>sex</th>\n",
       "      <th>sibsp</th>\n",
       "      <th>survived</th>\n",
       "      <th>ticket</th>\n",
       "    </tr>\n",
       "    <tr>\n",
       "      <th>name</th>\n",
       "      <th></th>\n",
       "      <th></th>\n",
       "      <th></th>\n",
       "      <th></th>\n",
       "      <th></th>\n",
       "      <th></th>\n",
       "      <th></th>\n",
       "      <th></th>\n",
       "      <th></th>\n",
       "      <th></th>\n",
       "      <th></th>\n",
       "    </tr>\n",
       "  </thead>\n",
       "  <tbody>\n",
       "    <tr>\n",
       "      <th>Williams, Mr. Charles Eugene</th>\n",
       "      <td>  NaN</td>\n",
       "      <td>  NaN</td>\n",
       "      <td> S</td>\n",
       "      <td> 13</td>\n",
       "      <td> Williams, Mr. Charles Eugene</td>\n",
       "      <td> 0</td>\n",
       "      <td> 2</td>\n",
       "      <td>   male</td>\n",
       "      <td> 0</td>\n",
       "      <td> 1</td>\n",
       "      <td> 244373</td>\n",
       "    </tr>\n",
       "    <tr>\n",
       "      <th>Beesley, Mr. Lawrence</th>\n",
       "      <td> 34.0</td>\n",
       "      <td>  D56</td>\n",
       "      <td> S</td>\n",
       "      <td> 13</td>\n",
       "      <td>        Beesley, Mr. Lawrence</td>\n",
       "      <td> 0</td>\n",
       "      <td> 2</td>\n",
       "      <td>   male</td>\n",
       "      <td> 0</td>\n",
       "      <td> 1</td>\n",
       "      <td> 248698</td>\n",
       "    </tr>\n",
       "    <tr>\n",
       "      <th>Webber, Miss. Susan</th>\n",
       "      <td> 32.5</td>\n",
       "      <td> E101</td>\n",
       "      <td> S</td>\n",
       "      <td> 13</td>\n",
       "      <td>          Webber, Miss. Susan</td>\n",
       "      <td> 0</td>\n",
       "      <td> 2</td>\n",
       "      <td> female</td>\n",
       "      <td> 0</td>\n",
       "      <td> 1</td>\n",
       "      <td>  27267</td>\n",
       "    </tr>\n",
       "  </tbody>\n",
       "</table>\n",
       "</div>"
      ],
      "text/plain": [
       "                               age cabin embarked  fare  \\\n",
       "name                                                      \n",
       "Williams, Mr. Charles Eugene   NaN   NaN        S    13   \n",
       "Beesley, Mr. Lawrence         34.0   D56        S    13   \n",
       "Webber, Miss. Susan           32.5  E101        S    13   \n",
       "\n",
       "                                                      name  parch  pclass  \\\n",
       "name                                                                        \n",
       "Williams, Mr. Charles Eugene  Williams, Mr. Charles Eugene      0       2   \n",
       "Beesley, Mr. Lawrence                Beesley, Mr. Lawrence      0       2   \n",
       "Webber, Miss. Susan                    Webber, Miss. Susan      0       2   \n",
       "\n",
       "                                 sex  sibsp  survived  ticket  \n",
       "name                                                           \n",
       "Williams, Mr. Charles Eugene    male      0         1  244373  \n",
       "Beesley, Mr. Lawrence           male      0         1  248698  \n",
       "Webber, Miss. Susan           female      0         1   27267  "
      ]
     },
     "execution_count": 28,
     "metadata": {},
     "output_type": "execute_result"
    }
   ],
   "source": [
    "# sort by column labels - use column axis (1)\n",
    "\n",
    "fare13.sort_index(axis=1).head(3)"
   ]
  },
  {
   "cell_type": "code",
   "execution_count": 77,
   "metadata": {
    "collapsed": false
   },
   "outputs": [
    {
     "data": {
      "text/plain": [
       "name\n",
       "Greenberg, Mr. Samuel                52\n",
       "Hodges, Mr. Henry Price              50\n",
       "Milling, Mr. Jacob Christian         48\n",
       "Hosono, Mr. Masabumi                 42\n",
       "Byles, Rev. Thomas Roussel Davids    42\n",
       "Name: age, dtype: float64"
      ]
     },
     "execution_count": 77,
     "metadata": {},
     "output_type": "execute_result"
    }
   ],
   "source": [
    "# sort by column values using order() -- returns a series object\n",
    "\n",
    "# sort by age\n",
    "show = fare13.age.order(ascending=False).head()\n",
    "\n",
    "# includes index and values of age column\n",
    "show"
   ]
  },
  {
   "cell_type": "code",
   "execution_count": 76,
   "metadata": {
    "collapsed": false
   },
   "outputs": [
    {
     "data": {
      "text/plain": [
       "pandas.core.series.Series"
      ]
     },
     "execution_count": 76,
     "metadata": {},
     "output_type": "execute_result"
    }
   ],
   "source": [
    "# order() returns a series object\n",
    "\n",
    "type(show)"
   ]
  },
  {
   "cell_type": "code",
   "execution_count": 85,
   "metadata": {
    "collapsed": false
   },
   "outputs": [
    {
     "data": {
      "text/html": [
       "<div style=\"max-height:1000px;max-width:1500px;overflow:auto;\">\n",
       "<table border=\"1\" class=\"dataframe\">\n",
       "  <thead>\n",
       "    <tr style=\"text-align: right;\">\n",
       "      <th></th>\n",
       "      <th>survived</th>\n",
       "      <th>pclass</th>\n",
       "      <th>name</th>\n",
       "      <th>sex</th>\n",
       "      <th>age</th>\n",
       "      <th>sibsp</th>\n",
       "      <th>parch</th>\n",
       "      <th>ticket</th>\n",
       "      <th>fare</th>\n",
       "      <th>cabin</th>\n",
       "      <th>embarked</th>\n",
       "    </tr>\n",
       "    <tr>\n",
       "      <th>name</th>\n",
       "      <th></th>\n",
       "      <th></th>\n",
       "      <th></th>\n",
       "      <th></th>\n",
       "      <th></th>\n",
       "      <th></th>\n",
       "      <th></th>\n",
       "      <th></th>\n",
       "      <th></th>\n",
       "      <th></th>\n",
       "      <th></th>\n",
       "    </tr>\n",
       "  </thead>\n",
       "  <tbody>\n",
       "    <tr>\n",
       "      <th>Greenberg, Mr. Samuel</th>\n",
       "      <td> 0</td>\n",
       "      <td> 2</td>\n",
       "      <td>             Greenberg, Mr. Samuel</td>\n",
       "      <td>   male</td>\n",
       "      <td> 52</td>\n",
       "      <td> 0</td>\n",
       "      <td> 0</td>\n",
       "      <td> 250647</td>\n",
       "      <td> 13</td>\n",
       "      <td> NaN</td>\n",
       "      <td> S</td>\n",
       "    </tr>\n",
       "    <tr>\n",
       "      <th>Hodges, Mr. Henry Price</th>\n",
       "      <td> 0</td>\n",
       "      <td> 2</td>\n",
       "      <td>           Hodges, Mr. Henry Price</td>\n",
       "      <td>   male</td>\n",
       "      <td> 50</td>\n",
       "      <td> 0</td>\n",
       "      <td> 0</td>\n",
       "      <td> 250643</td>\n",
       "      <td> 13</td>\n",
       "      <td> NaN</td>\n",
       "      <td> S</td>\n",
       "    </tr>\n",
       "    <tr>\n",
       "      <th>Milling, Mr. Jacob Christian</th>\n",
       "      <td> 0</td>\n",
       "      <td> 2</td>\n",
       "      <td>      Milling, Mr. Jacob Christian</td>\n",
       "      <td>   male</td>\n",
       "      <td> 48</td>\n",
       "      <td> 0</td>\n",
       "      <td> 0</td>\n",
       "      <td> 234360</td>\n",
       "      <td> 13</td>\n",
       "      <td> NaN</td>\n",
       "      <td> S</td>\n",
       "    </tr>\n",
       "    <tr>\n",
       "      <th>Bystrom, Mrs. (Karolina)</th>\n",
       "      <td> 1</td>\n",
       "      <td> 2</td>\n",
       "      <td>          Bystrom, Mrs. (Karolina)</td>\n",
       "      <td> female</td>\n",
       "      <td> 42</td>\n",
       "      <td> 0</td>\n",
       "      <td> 0</td>\n",
       "      <td> 236852</td>\n",
       "      <td> 13</td>\n",
       "      <td> NaN</td>\n",
       "      <td> S</td>\n",
       "    </tr>\n",
       "    <tr>\n",
       "      <th>Byles, Rev. Thomas Roussel Davids</th>\n",
       "      <td> 0</td>\n",
       "      <td> 2</td>\n",
       "      <td> Byles, Rev. Thomas Roussel Davids</td>\n",
       "      <td>   male</td>\n",
       "      <td> 42</td>\n",
       "      <td> 0</td>\n",
       "      <td> 0</td>\n",
       "      <td> 244310</td>\n",
       "      <td> 13</td>\n",
       "      <td> NaN</td>\n",
       "      <td> S</td>\n",
       "    </tr>\n",
       "  </tbody>\n",
       "</table>\n",
       "</div>"
      ],
      "text/plain": [
       "                                   survived  pclass  \\\n",
       "name                                                  \n",
       "Greenberg, Mr. Samuel                     0       2   \n",
       "Hodges, Mr. Henry Price                   0       2   \n",
       "Milling, Mr. Jacob Christian              0       2   \n",
       "Bystrom, Mrs. (Karolina)                  1       2   \n",
       "Byles, Rev. Thomas Roussel Davids         0       2   \n",
       "\n",
       "                                                                name     sex  \\\n",
       "name                                                                           \n",
       "Greenberg, Mr. Samuel                          Greenberg, Mr. Samuel    male   \n",
       "Hodges, Mr. Henry Price                      Hodges, Mr. Henry Price    male   \n",
       "Milling, Mr. Jacob Christian            Milling, Mr. Jacob Christian    male   \n",
       "Bystrom, Mrs. (Karolina)                    Bystrom, Mrs. (Karolina)  female   \n",
       "Byles, Rev. Thomas Roussel Davids  Byles, Rev. Thomas Roussel Davids    male   \n",
       "\n",
       "                                   age  sibsp  parch  ticket  fare cabin  \\\n",
       "name                                                                       \n",
       "Greenberg, Mr. Samuel               52      0      0  250647    13   NaN   \n",
       "Hodges, Mr. Henry Price             50      0      0  250643    13   NaN   \n",
       "Milling, Mr. Jacob Christian        48      0      0  234360    13   NaN   \n",
       "Bystrom, Mrs. (Karolina)            42      0      0  236852    13   NaN   \n",
       "Byles, Rev. Thomas Roussel Davids   42      0      0  244310    13   NaN   \n",
       "\n",
       "                                  embarked  \n",
       "name                                        \n",
       "Greenberg, Mr. Samuel                    S  \n",
       "Hodges, Mr. Henry Price                  S  \n",
       "Milling, Mr. Jacob Christian             S  \n",
       "Bystrom, Mrs. (Karolina)                 S  \n",
       "Byles, Rev. Thomas Roussel Davids        S  "
      ]
     },
     "execution_count": 85,
     "metadata": {},
     "output_type": "execute_result"
    }
   ],
   "source": [
    "# sort column values using sort_index() //not order()\n",
    "\n",
    "fare13.sort_index(ascending=False, by = 'age').head()"
   ]
  },
  {
   "cell_type": "code",
   "execution_count": 88,
   "metadata": {
    "collapsed": false
   },
   "outputs": [
    {
     "data": {
      "text/html": [
       "<div style=\"max-height:1000px;max-width:1500px;overflow:auto;\">\n",
       "<table border=\"1\" class=\"dataframe\">\n",
       "  <thead>\n",
       "    <tr style=\"text-align: right;\">\n",
       "      <th></th>\n",
       "      <th>survived</th>\n",
       "      <th>pclass</th>\n",
       "      <th>name</th>\n",
       "      <th>sex</th>\n",
       "      <th>age</th>\n",
       "      <th>sibsp</th>\n",
       "      <th>parch</th>\n",
       "      <th>ticket</th>\n",
       "      <th>fare</th>\n",
       "      <th>cabin</th>\n",
       "      <th>embarked</th>\n",
       "    </tr>\n",
       "    <tr>\n",
       "      <th>name</th>\n",
       "      <th></th>\n",
       "      <th></th>\n",
       "      <th></th>\n",
       "      <th></th>\n",
       "      <th></th>\n",
       "      <th></th>\n",
       "      <th></th>\n",
       "      <th></th>\n",
       "      <th></th>\n",
       "      <th></th>\n",
       "      <th></th>\n",
       "    </tr>\n",
       "  </thead>\n",
       "  <tbody>\n",
       "    <tr>\n",
       "      <th>Greenberg, Mr. Samuel</th>\n",
       "      <td> 0</td>\n",
       "      <td> 2</td>\n",
       "      <td>             Greenberg, Mr. Samuel</td>\n",
       "      <td>   male</td>\n",
       "      <td> 52</td>\n",
       "      <td> 0</td>\n",
       "      <td> 0</td>\n",
       "      <td> 250647</td>\n",
       "      <td> 13</td>\n",
       "      <td> NaN</td>\n",
       "      <td> S</td>\n",
       "    </tr>\n",
       "    <tr>\n",
       "      <th>Hodges, Mr. Henry Price</th>\n",
       "      <td> 0</td>\n",
       "      <td> 2</td>\n",
       "      <td>           Hodges, Mr. Henry Price</td>\n",
       "      <td>   male</td>\n",
       "      <td> 50</td>\n",
       "      <td> 0</td>\n",
       "      <td> 0</td>\n",
       "      <td> 250643</td>\n",
       "      <td> 13</td>\n",
       "      <td> NaN</td>\n",
       "      <td> S</td>\n",
       "    </tr>\n",
       "    <tr>\n",
       "      <th>Milling, Mr. Jacob Christian</th>\n",
       "      <td> 0</td>\n",
       "      <td> 2</td>\n",
       "      <td>      Milling, Mr. Jacob Christian</td>\n",
       "      <td>   male</td>\n",
       "      <td> 48</td>\n",
       "      <td> 0</td>\n",
       "      <td> 0</td>\n",
       "      <td> 234360</td>\n",
       "      <td> 13</td>\n",
       "      <td> NaN</td>\n",
       "      <td> S</td>\n",
       "    </tr>\n",
       "    <tr>\n",
       "      <th>Byles, Rev. Thomas Roussel Davids</th>\n",
       "      <td> 0</td>\n",
       "      <td> 2</td>\n",
       "      <td> Byles, Rev. Thomas Roussel Davids</td>\n",
       "      <td>   male</td>\n",
       "      <td> 42</td>\n",
       "      <td> 0</td>\n",
       "      <td> 0</td>\n",
       "      <td> 244310</td>\n",
       "      <td> 13</td>\n",
       "      <td> NaN</td>\n",
       "      <td> S</td>\n",
       "    </tr>\n",
       "    <tr>\n",
       "      <th>Bystrom, Mrs. (Karolina)</th>\n",
       "      <td> 1</td>\n",
       "      <td> 2</td>\n",
       "      <td>          Bystrom, Mrs. (Karolina)</td>\n",
       "      <td> female</td>\n",
       "      <td> 42</td>\n",
       "      <td> 0</td>\n",
       "      <td> 0</td>\n",
       "      <td> 236852</td>\n",
       "      <td> 13</td>\n",
       "      <td> NaN</td>\n",
       "      <td> S</td>\n",
       "    </tr>\n",
       "  </tbody>\n",
       "</table>\n",
       "</div>"
      ],
      "text/plain": [
       "                                   survived  pclass  \\\n",
       "name                                                  \n",
       "Greenberg, Mr. Samuel                     0       2   \n",
       "Hodges, Mr. Henry Price                   0       2   \n",
       "Milling, Mr. Jacob Christian              0       2   \n",
       "Byles, Rev. Thomas Roussel Davids         0       2   \n",
       "Bystrom, Mrs. (Karolina)                  1       2   \n",
       "\n",
       "                                                                name     sex  \\\n",
       "name                                                                           \n",
       "Greenberg, Mr. Samuel                          Greenberg, Mr. Samuel    male   \n",
       "Hodges, Mr. Henry Price                      Hodges, Mr. Henry Price    male   \n",
       "Milling, Mr. Jacob Christian            Milling, Mr. Jacob Christian    male   \n",
       "Byles, Rev. Thomas Roussel Davids  Byles, Rev. Thomas Roussel Davids    male   \n",
       "Bystrom, Mrs. (Karolina)                    Bystrom, Mrs. (Karolina)  female   \n",
       "\n",
       "                                   age  sibsp  parch  ticket  fare cabin  \\\n",
       "name                                                                       \n",
       "Greenberg, Mr. Samuel               52      0      0  250647    13   NaN   \n",
       "Hodges, Mr. Henry Price             50      0      0  250643    13   NaN   \n",
       "Milling, Mr. Jacob Christian        48      0      0  234360    13   NaN   \n",
       "Byles, Rev. Thomas Roussel Davids   42      0      0  244310    13   NaN   \n",
       "Bystrom, Mrs. (Karolina)            42      0      0  236852    13   NaN   \n",
       "\n",
       "                                  embarked  \n",
       "name                                        \n",
       "Greenberg, Mr. Samuel                    S  \n",
       "Hodges, Mr. Henry Price                  S  \n",
       "Milling, Mr. Jacob Christian             S  \n",
       "Byles, Rev. Thomas Roussel Davids        S  \n",
       "Bystrom, Mrs. (Karolina)                 S  "
      ]
     },
     "execution_count": 88,
     "metadata": {},
     "output_type": "execute_result"
    }
   ],
   "source": [
    "# sort by 2 columns\n",
    "fare13.sort_index(ascending=[False,True], by=['age', 'name']).head()"
   ]
  },
  {
   "cell_type": "code",
   "execution_count": 91,
   "metadata": {
    "collapsed": false
   },
   "outputs": [
    {
     "data": {
      "text/plain": [
       "name\n",
       "Greenberg, Mr. Samuel                52\n",
       "Hodges, Mr. Henry Price              50\n",
       "Milling, Mr. Jacob Christian         48\n",
       "Hosono, Mr. Masabumi                 42\n",
       "Byles, Rev. Thomas Roussel Davids    42\n",
       "Bystrom, Mrs. (Karolina)             42\n",
       "Smith, Miss. Marion Elsie            40\n",
       "Meyer, Mr. August                    39\n",
       "Otter, Mr. Richard                   39\n",
       "Funk, Miss. Annie Clemmer            38\n",
       "Name: age, dtype: float64"
      ]
     },
     "execution_count": 91,
     "metadata": {},
     "output_type": "execute_result"
    }
   ],
   "source": [
    "# 10 oldest people\n",
    "top10 = fare13.age.order(ascending=False).head(10)\n",
    "\n",
    "top10"
   ]
  },
  {
   "cell_type": "code",
   "execution_count": 92,
   "metadata": {
    "collapsed": false
   },
   "outputs": [
    {
     "data": {
      "text/plain": [
       "pandas.core.series.Series"
      ]
     },
     "execution_count": 92,
     "metadata": {},
     "output_type": "execute_result"
    }
   ],
   "source": [
    "# still a series, index is the name\n",
    "type(top10)"
   ]
  },
  {
   "cell_type": "code",
   "execution_count": 149,
   "metadata": {
    "collapsed": false
   },
   "outputs": [],
   "source": [
    "# plot the top 10 salaries\n",
    "import matplotlib\n",
    "import matplotlib.pyplot\n",
    "\n",
    "# magic method required to initialize plot functions\n",
    "#%matplotlib"
   ]
  },
  {
   "cell_type": "code",
   "execution_count": 150,
   "metadata": {
    "collapsed": false,
    "scrolled": true
   },
   "outputs": [
    {
     "data": {
      "text/plain": [
       "<matplotlib.legend.Legend at 0x7f1e67fcb950>"
      ]
     },
     "execution_count": 150,
     "metadata": {},
     "output_type": "execute_result"
    }
   ],
   "source": [
    "# initialize top-level plot container\n",
    "matplotlib.pyplot.figure()\n",
    "\n",
    "top10.plot(label='Ages')\n",
    "matplotlib.pyplot.tick_params(axis='x', labelbottom='off')\n",
    "matplotlib.pyplot.xlabel(s='Person')\n",
    "matplotlib.pyplot.legend()"
   ]
  },
  {
   "cell_type": "code",
   "execution_count": null,
   "metadata": {
    "collapsed": false
   },
   "outputs": [],
   "source": []
  },
  {
   "cell_type": "code",
   "execution_count": null,
   "metadata": {
    "collapsed": true
   },
   "outputs": [],
   "source": []
  },
  {
   "cell_type": "code",
   "execution_count": null,
   "metadata": {
    "collapsed": true
   },
   "outputs": [],
   "source": []
  }
 ],
 "metadata": {
  "kernelspec": {
   "display_name": "Python 2",
   "language": "python",
   "name": "python2"
  },
  "language_info": {
   "codemirror_mode": {
    "name": "ipython",
    "version": 2
   },
   "file_extension": ".py",
   "mimetype": "text/x-python",
   "name": "python",
   "nbconvert_exporter": "python",
   "pygments_lexer": "ipython2",
   "version": "2.7.9"
  }
 },
 "nbformat": 4,
 "nbformat_minor": 0
}
