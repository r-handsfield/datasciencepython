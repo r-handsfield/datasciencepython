{
 "cells": [
  {
   "cell_type": "markdown",
   "metadata": {},
   "source": [
    "## 2.2 Create GroupBy"
   ]
  },
  {
   "cell_type": "code",
   "execution_count": 1,
   "metadata": {
    "collapsed": true
   },
   "outputs": [],
   "source": [
    "from IPython.display import Image"
   ]
  },
  {
   "cell_type": "markdown",
   "metadata": {},
   "source": [
    "GroupBy is the first part of the split, apply, combine workflow. The object returned by `groupby()` is a group of data frames in a dict-like structure."
   ]
  },
  {
   "cell_type": "markdown",
   "metadata": {},
   "source": [
    "**Split**  \n",
    "The *grouby()* method splits the dataframe into a group of dataframes, and keeps all the sub-dataframes bundled in an iterable dict-like structure."
   ]
  },
  {
   "cell_type": "code",
   "execution_count": 5,
   "metadata": {
    "collapsed": false
   },
   "outputs": [
    {
     "data": {
      "text/html": [
       "<img src=\"https://github.com/alfredessa/pdacookbook/blob/master/images/groupby1.jpg?raw=true\"/>"
      ],
      "text/plain": [
       "<IPython.core.display.Image object>"
      ]
     },
     "execution_count": 5,
     "metadata": {},
     "output_type": "execute_result"
    }
   ],
   "source": [
    "Image(url='https://github.com/alfredessa/pdacookbook/blob/master/images/groupby1.jpg?raw=true')"
   ]
  },
  {
   "cell_type": "code",
   "execution_count": null,
   "metadata": {
    "collapsed": true
   },
   "outputs": [],
   "source": []
  },
  {
   "cell_type": "markdown",
   "metadata": {},
   "source": [
    "**Apply**  \n",
    "Once we have a grouped object, we can apply functions to a single grouped df, set of grouped df, or all data frames in the grouped object."
   ]
  },
  {
   "cell_type": "code",
   "execution_count": 6,
   "metadata": {
    "collapsed": false
   },
   "outputs": [
    {
     "data": {
      "text/html": [
       "<img src=\"https://github.com/alfredessa/pdacookbook/blob/master/images/groupby2.jpg?raw=true\"/>"
      ],
      "text/plain": [
       "<IPython.core.display.Image object>"
      ]
     },
     "execution_count": 6,
     "metadata": {},
     "output_type": "execute_result"
    }
   ],
   "source": [
    "Image(url='https://github.com/alfredessa/pdacookbook/blob/master/images/groupby2.jpg?raw=true')"
   ]
  },
  {
   "cell_type": "code",
   "execution_count": null,
   "metadata": {
    "collapsed": true
   },
   "outputs": [],
   "source": []
  },
  {
   "cell_type": "markdown",
   "metadata": {},
   "source": [
    "**Combine**   \n",
    "We're still able to combine results into new data structures."
   ]
  },
  {
   "cell_type": "code",
   "execution_count": 7,
   "metadata": {
    "collapsed": false
   },
   "outputs": [
    {
     "data": {
      "text/html": [
       "<img src=\"https://github.com/alfredessa/pdacookbook/blob/master/images/groupby3.jpg?raw=true\"/>"
      ],
      "text/plain": [
       "<IPython.core.display.Image object>"
      ]
     },
     "execution_count": 7,
     "metadata": {},
     "output_type": "execute_result"
    }
   ],
   "source": [
    "Image(url='https://github.com/alfredessa/pdacookbook/blob/master/images/groupby3.jpg?raw=true')"
   ]
  },
  {
   "cell_type": "code",
   "execution_count": null,
   "metadata": {
    "collapsed": true
   },
   "outputs": [],
   "source": []
  },
  {
   "cell_type": "markdown",
   "metadata": {},
   "source": [
    "### 3.11 Load MLB salaries dataset"
   ]
  },
  {
   "cell_type": "code",
   "execution_count": 8,
   "metadata": {
    "collapsed": true
   },
   "outputs": [],
   "source": [
    "import pandas"
   ]
  },
  {
   "cell_type": "code",
   "execution_count": 11,
   "metadata": {
    "collapsed": false
   },
   "outputs": [
    {
     "data": {
      "text/html": [
       "<div style=\"max-height:1000px;max-width:1500px;overflow:auto;\">\n",
       "<table border=\"1\" class=\"dataframe\">\n",
       "  <thead>\n",
       "    <tr style=\"text-align: right;\">\n",
       "      <th></th>\n",
       "      <th>Year</th>\n",
       "      <th>Player</th>\n",
       "      <th>Salary</th>\n",
       "      <th>Position</th>\n",
       "      <th>Team</th>\n",
       "    </tr>\n",
       "  </thead>\n",
       "  <tbody>\n",
       "    <tr>\n",
       "      <th>0</th>\n",
       "      <td> 1988</td>\n",
       "      <td>       Mike Witt</td>\n",
       "      <td> 1400000</td>\n",
       "      <td>           Pitcher</td>\n",
       "      <td> Los Angeles Angels</td>\n",
       "    </tr>\n",
       "    <tr>\n",
       "      <th>1</th>\n",
       "      <td> 1988</td>\n",
       "      <td> George Hendrick</td>\n",
       "      <td>  989333</td>\n",
       "      <td>        Outfielder</td>\n",
       "      <td> Los Angeles Angels</td>\n",
       "    </tr>\n",
       "    <tr>\n",
       "      <th>2</th>\n",
       "      <td> 1988</td>\n",
       "      <td>     Chili Davis</td>\n",
       "      <td>  950000</td>\n",
       "      <td>        Outfielder</td>\n",
       "      <td> Los Angeles Angels</td>\n",
       "    </tr>\n",
       "    <tr>\n",
       "      <th>3</th>\n",
       "      <td> 1988</td>\n",
       "      <td>   Brian Downing</td>\n",
       "      <td>  900000</td>\n",
       "      <td> Designated Hitter</td>\n",
       "      <td> Los Angeles Angels</td>\n",
       "    </tr>\n",
       "    <tr>\n",
       "      <th>4</th>\n",
       "      <td> 1988</td>\n",
       "      <td>       Bob Boone</td>\n",
       "      <td>  883000</td>\n",
       "      <td>           Catcher</td>\n",
       "      <td> Los Angeles Angels</td>\n",
       "    </tr>\n",
       "  </tbody>\n",
       "</table>\n",
       "</div>"
      ],
      "text/plain": [
       "   Year           Player   Salary           Position                Team\n",
       "0  1988        Mike Witt  1400000            Pitcher  Los Angeles Angels\n",
       "1  1988  George Hendrick   989333         Outfielder  Los Angeles Angels\n",
       "2  1988      Chili Davis   950000         Outfielder  Los Angeles Angels\n",
       "3  1988    Brian Downing   900000  Designated Hitter  Los Angeles Angels\n",
       "4  1988        Bob Boone   883000            Catcher  Los Angeles Angels"
      ]
     },
     "execution_count": 11,
     "metadata": {},
     "output_type": "execute_result"
    }
   ],
   "source": [
    "# load the dataset\n",
    "url = 'https://raw.github.com/alfredessa/pdacookbook/master/data/mlbsalaries.csv'\n",
    "\n",
    "mlb = pandas.read_csv(url)\n",
    "\n",
    "mlb.head()"
   ]
  },
  {
   "cell_type": "markdown",
   "metadata": {},
   "source": [
    "###  3.12 Grouby using the Year column"
   ]
  },
  {
   "cell_type": "code",
   "execution_count": 17,
   "metadata": {
    "collapsed": false
   },
   "outputs": [],
   "source": [
    "# split mlb into data frames for each year reported\n",
    "grouped = mlb.groupby('Year')"
   ]
  },
  {
   "cell_type": "code",
   "execution_count": 18,
   "metadata": {
    "collapsed": false
   },
   "outputs": [
    {
     "data": {
      "text/plain": [
       "pandas.core.groupby.DataFrameGroupBy"
      ]
     },
     "execution_count": 18,
     "metadata": {},
     "output_type": "execute_result"
    }
   ],
   "source": [
    "# this obj is a group of df's; using head() would head EVERY df in the group\n",
    "# we can confirm type though\n",
    "type(grouped)"
   ]
  },
  {
   "cell_type": "code",
   "execution_count": 20,
   "metadata": {
    "collapsed": false
   },
   "outputs": [
    {
     "name": "stdout",
     "output_type": "stream",
     "text": [
      "1988\n",
      "   Year           Player   Salary           Position                Team\n",
      "0  1988        Mike Witt  1400000            Pitcher  Los Angeles Angels\n",
      "1  1988  George Hendrick   989333         Outfielder  Los Angeles Angels\n",
      "2  1988      Chili Davis   950000         Outfielder  Los Angeles Angels\n",
      "3  1988    Brian Downing   900000  Designated Hitter  Los Angeles Angels\n",
      "4  1988        Bob Boone   883000            Catcher  Los Angeles Angels\n",
      "1989\n",
      "     Year         Player   Salary    Position                Team\n",
      "686  1989      Mike Witt  1400000     Pitcher  Los Angeles Angels\n",
      "687  1989    Chili Davis  1275000  Outfielder  Los Angeles Angels\n",
      "688  1989  Brian Downing  1250000  Outfielder  Los Angeles Angels\n",
      "689  1989  Bert Blyleven  1225000     Pitcher  Los Angeles Angels\n",
      "690  1989  Lance Parrish  1000000     Catcher  Los Angeles Angels\n",
      "1990\n",
      "      Year         Player   Salary       Position                Team\n",
      "1396  1990  Lance Parrish  1916667        Catcher  Los Angeles Angels\n",
      "1397  1990  Mark Langston  1800000        Pitcher  Los Angeles Angels\n",
      "1398  1990   Wally Joyner  1750000  First Baseman  Los Angeles Angels\n",
      "1399  1990    Chili Davis  1375000     Outfielder  Los Angeles Angels\n",
      "1400  1990      Mike Witt  1300000        Pitcher  Los Angeles Angels\n",
      "1991\n",
      "      Year         Player   Salary       Position                Team\n",
      "2368  1991  Mark Langston  3550000        Pitcher  Los Angeles Angels\n",
      "2369  1991  Dave Winfield  3300000     Outfielder  Los Angeles Angels\n",
      "2370  1991    Gary Gaetti  2700000  Third Baseman  Los Angeles Angels\n",
      "2371  1991   Chuck Finley  2500000        Pitcher  Los Angeles Angels\n",
      "2372  1991  Lance Parrish  2416667        Catcher  Los Angeles Angels\n",
      "1992\n",
      "      Year         Player   Salary       Position                Team\n",
      "3088  1992   Chuck Finley  4375000        Pitcher  Los Angeles Angels\n",
      "3089  1992  Mark Langston  3550000        Pitcher  Los Angeles Angels\n",
      "3090  1992   Bryan Harvey  3125000        Pitcher  Los Angeles Angels\n",
      "3091  1992    Gary Gaetti  2700000  Third Baseman  Los Angeles Angels\n",
      "3092  1992  Lance Parrish  2416667        Catcher  Los Angeles Angels\n",
      "1993\n",
      "      Year         Player   Salary       Position                Team\n",
      "3841  1993   Chuck Finley  5375000        Pitcher  Los Angeles Angels\n",
      "3842  1993   Kelly Gruber  4333334  Third Baseman  Los Angeles Angels\n",
      "3843  1993  Mark Langston  3550000        Pitcher  Los Angeles Angels\n",
      "3844  1993    Gary Gaetti  3000000  Third Baseman  Los Angeles Angels\n",
      "3845  1993   Luis Polonia  2475000     Outfielder  Los Angeles Angels\n",
      "1994\n",
      "      Year         Player   Salary    Position                Team\n",
      "4627  1994   Chuck Finley  3875000     Pitcher  Los Angeles Angels\n",
      "4628  1994  Mark Langston  3550000     Pitcher  Los Angeles Angels\n",
      "4629  1994    Chili Davis  2400000  Outfielder  Los Angeles Angels\n",
      "4630  1994    Joe Magrane  1500000     Pitcher  Los Angeles Angels\n",
      "4631  1994     Spike Owen  1250000   Shortstop  Los Angeles Angels\n",
      "1995\n",
      "      Year         Player   Salary           Position                Team\n",
      "5375  1995  Mark Langston  5000000            Pitcher  Los Angeles Angels\n",
      "5376  1995   Chuck Finley  4875000            Pitcher  Los Angeles Angels\n",
      "5377  1995  Tony Phillips  4366667         Outfielder  Los Angeles Angels\n",
      "5378  1995    Chili Davis  3800000  Designated Hitter  Los Angeles Angels\n",
      "5379  1995     Spike Owen  3500000          Shortstop  Los Angeles Angels\n",
      "1996\n",
      "      Year         Player   Salary           Position                Team\n",
      "6180  1996  Mark Langston  5000000            Pitcher  Los Angeles Angels\n",
      "6181  1996    Chili Davis  3800000  Designated Hitter  Los Angeles Angels\n",
      "6182  1996   Chuck Finley  3000000            Pitcher  Los Angeles Angels\n",
      "6183  1996     Tim Salmon  2500000         Outfielder  Los Angeles Angels\n",
      "6184  1996     Jim Abbott  2200000            Pitcher  Los Angeles Angels\n",
      "1997\n",
      "      Year          Player   Salary    Position                Team\n",
      "6948  1997    Chuck Finley  4000000     Pitcher  Los Angeles Angels\n",
      "6949  1997   Mark Langston  4000000     Pitcher  Los Angeles Angels\n",
      "6950  1997      Tim Salmon  3500000  Outfielder  Los Angeles Angels\n",
      "6951  1997  Gary DiSarcina  2600000   Shortstop  Los Angeles Angels\n",
      "6952  1997     Jim Edmonds  2100000  Outfielder  Los Angeles Angels\n",
      "1998\n",
      "      Year        Player   Salary    Position                Team\n",
      "7721  1998  Chuck Finley  5000000     Pitcher  Los Angeles Angels\n",
      "7722  1998      Ken Hill  5000000     Pitcher  Los Angeles Angels\n",
      "7723  1998    Tim Salmon  5000000  Outfielder  Los Angeles Angels\n",
      "7724  1998  Allen Watson  2900000     Pitcher  Los Angeles Angels\n",
      "7725  1998   Jim Edmonds  2800000  Outfielder  Los Angeles Angels\n",
      "1999\n",
      "      Year        Player   Salary       Position                Team\n",
      "8567  1999     Mo Vaughn  7166666  First Baseman  Los Angeles Angels\n",
      "8568  1999  Chuck Finley  5800000        Pitcher  Los Angeles Angels\n",
      "8569  1999      Ken Hill  5500000        Pitcher  Los Angeles Angels\n",
      "8570  1999    Tim Salmon  5500000     Outfielder  Los Angeles Angels\n",
      "8571  1999   Tim Belcher  4650000        Pitcher  Los Angeles Angels\n",
      "2000\n",
      "      Year            Player    Salary       Position                Team\n",
      "9486  2000         Mo Vaughn  11166667  First Baseman  Los Angeles Angels\n",
      "9487  2000        Tim Salmon   6000000     Outfielder  Los Angeles Angels\n",
      "9488  2000          Ken Hill   5600000        Pitcher  Los Angeles Angels\n",
      "9489  2000       Tim Belcher   4600000        Pitcher  Los Angeles Angels\n",
      "9490  2000  Kent Bottenfield   4000000        Pitcher  Los Angeles Angels\n",
      "2001\n",
      "       Year           Player    Salary       Position                Team\n",
      "10329  2001        Mo Vaughn  13166668  First Baseman  Los Angeles Angels\n",
      "10330  2001       Tim Salmon   6500000     Outfielder  Los Angeles Angels\n",
      "10331  2001  Garret Anderson   4500000     Outfielder  Los Angeles Angels\n",
      "10332  2001     Darin Erstad   3450000     Outfielder  Los Angeles Angels\n",
      "10333  2001    Troy Percival   3400000        Pitcher  Los Angeles Angels\n",
      "2002\n",
      "       Year         Player   Salary    Position                Team\n",
      "11186  2002     Tim Salmon  9650000  Outfielder  Los Angeles Angels\n",
      "11187  2002   Kevin Appier  9500000     Pitcher  Los Angeles Angels\n",
      "11188  2002     Aaron Sele  7166667     Pitcher  Los Angeles Angels\n",
      "11189  2002   Darin Erstad  6250000  Outfielder  Los Angeles Angels\n",
      "11190  2002  Troy Percival  5250000     Pitcher  Los Angeles Angels\n",
      "2003\n",
      "       Year         Player    Salary    Position                Team\n",
      "12035  2003   Kevin Appier  11500000     Pitcher  Los Angeles Angels\n",
      "12036  2003     Tim Salmon   9900000  Outfielder  Los Angeles Angels\n",
      "12037  2003     Aaron Sele   8166667     Pitcher  Los Angeles Angels\n",
      "12038  2003  Troy Percival   7833333     Pitcher  Los Angeles Angels\n",
      "12039  2003   Darin Erstad   7250000  Outfielder  Los Angeles Angels\n",
      "2004\n",
      "       Year             Player    Salary           Position  \\\n",
      "12861  2004      Bartolo Colon  11000000            Pitcher   \n",
      "12862  2004  Vladimir Guerrero  11000000         Outfielder   \n",
      "12863  2004         Troy Glaus   9900000      Third Baseman   \n",
      "12864  2004         Tim Salmon   9900000  Designated Hitter   \n",
      "12865  2004         Aaron Sele   8666667            Pitcher   \n",
      "\n",
      "                     Team  \n",
      "12861  Los Angeles Angels  \n",
      "12862  Los Angeles Angels  \n",
      "12863  Los Angeles Angels  \n",
      "12864  Los Angeles Angels  \n",
      "12865  Los Angeles Angels  \n",
      "2005\n",
      "       Year             Player    Salary       Position                Team\n",
      "13694  2005  Vladimir Guerrero  12500000     Outfielder  Los Angeles Angels\n",
      "13695  2005      Bartolo Colon  10000000        Pitcher  Los Angeles Angels\n",
      "13696  2005    Garret Anderson   9600000     Outfielder  Los Angeles Angels\n",
      "13697  2005       Darin Erstad   8250000  First Baseman  Los Angeles Angels\n",
      "13698  2005    Jarrod Washburn   6500000        Pitcher  Los Angeles Angels\n",
      "2006\n",
      "       Year             Player    Salary       Position                Team\n",
      "14525  2006      Bartolo Colon  14000000        Pitcher  Los Angeles Angels\n",
      "14526  2006  Vladimir Guerrero  13500000     Outfielder  Los Angeles Angels\n",
      "14527  2006    Garret Anderson  10600000     Outfielder  Los Angeles Angels\n",
      "14528  2006       Darin Erstad   8750000  First Baseman  Los Angeles Angels\n",
      "14529  2006        Jeff Weaver   8325000        Pitcher  Los Angeles Angels\n",
      "2007\n",
      "       Year             Player    Salary    Position                Team\n",
      "15348  2007      Bartolo Colon  16000000     Pitcher  Los Angeles Angels\n",
      "15349  2007  Vladimir Guerrero  14500000  Outfielder  Los Angeles Angels\n",
      "15350  2007    Garret Anderson  11600000  Outfielder  Los Angeles Angels\n",
      "15351  2007     Kelvim Escobar   9000000     Pitcher  Los Angeles Angels\n",
      "15352  2007    Orlando Cabrera   8500000   Shortstop  Los Angeles Angels\n",
      "2008\n",
      "       Year               Player    Salary    Position                Team\n",
      "16196  2008         Torii Hunter  16500000  Outfielder  Los Angeles Angels\n",
      "16197  2008    Vladimir Guerrero  15500000  Outfielder  Los Angeles Angels\n",
      "16198  2008      Garret Anderson  12600000  Outfielder  Los Angeles Angels\n",
      "16199  2008          Jon Garland  12000000     Pitcher  Los Angeles Angels\n",
      "16200  2008  Francisco Rodriguez  10000000     Pitcher  Los Angeles Angels\n",
      "2009\n",
      "       Year             Player    Salary    Position                Team\n",
      "17054  2009       Torii Hunter  18000000  Outfielder  Los Angeles Angels\n",
      "17055  2009  Vladimir Guerrero  15000000  Outfielder  Los Angeles Angels\n",
      "17056  2009      Gary Matthews  10400000  Outfielder  Los Angeles Angels\n",
      "17057  2009     Kelvim Escobar  10000000     Pitcher  Los Angeles Angels\n",
      "17058  2009        John Lackey  10000000     Pitcher  Los Angeles Angels\n",
      "2010\n",
      "       Year         Player    Salary    Position                Team\n",
      "17872  2010   Torii Hunter  18500000  Outfielder  Los Angeles Angels\n",
      "17873  2010    Bobby Abreu   9000000  Outfielder  Los Angeles Angels\n",
      "17874  2010  Brian Fuentes   9000000     Pitcher  Los Angeles Angels\n",
      "17875  2010   Scott Kazmir   8000000     Pitcher  Los Angeles Angels\n",
      "17876  2010   Joel Pineiro   8000000     Pitcher  Los Angeles Angels\n",
      "2011\n",
      "       Year        Player    Salary    Position                Team\n",
      "18700  2011  Vernon Wells  26187500  Outfielder  Los Angeles Angels\n",
      "18701  2011  Torii Hunter  18500000  Outfielder  Los Angeles Angels\n",
      "18702  2011     Dan Haren  12750000     Pitcher  Los Angeles Angels\n",
      "18703  2011  Scott Kazmir  12000000     Pitcher  Los Angeles Angels\n",
      "18704  2011   Bobby Abreu   9000000  Outfielder  Los Angeles Angels\n"
     ]
    }
   ],
   "source": [
    "# the group is iterable, so:\n",
    "for k, group in grouped:\n",
    "    print k\n",
    "    print group.head()\n",
    "    \n",
    "# make more sense now?    \n",
    "# There is a df for each year, containing all player & salary info"
   ]
  },
  {
   "cell_type": "markdown",
   "metadata": {},
   "source": [
    "### 3.13 Use Generator Comprehension to go inside each data frame"
   ]
  },
  {
   "cell_type": "code",
   "execution_count": 24,
   "metadata": {
    "collapsed": false
   },
   "outputs": [],
   "source": [
    "# go inside each df & extract highest paid player for each year\n",
    "\n",
    "# write a generator comprehension statement that\n",
    "# 1) Sorts df by descending salary\n",
    "# 2) Subsets the first (highest) salary\n",
    "# 3) Applies 1:2 to each df in grouped\n",
    "t = (group.sort_index(by='Salary', ascending=False)[:1] for yr,group in grouped)"
   ]
  },
  {
   "cell_type": "code",
   "execution_count": 26,
   "metadata": {
    "collapsed": false
   },
   "outputs": [
    {
     "data": {
      "text/plain": [
       "<generator object <genexpr> at 0x7ffe0ee94cd0>"
      ]
     },
     "execution_count": 26,
     "metadata": {},
     "output_type": "execute_result"
    }
   ],
   "source": [
    "# what's it look like?\n",
    "t"
   ]
  },
  {
   "cell_type": "markdown",
   "metadata": {},
   "source": [
    "### Create new data frame of results"
   ]
  },
  {
   "cell_type": "code",
   "execution_count": 27,
   "metadata": {
    "collapsed": true
   },
   "outputs": [],
   "source": [
    "# initialize empty df -- vectorization!\n",
    "topsalaries = pandas.DataFrame()"
   ]
  },
  {
   "cell_type": "code",
   "execution_count": 29,
   "metadata": {
    "collapsed": false
   },
   "outputs": [
    {
     "data": {
      "text/html": [
       "<div style=\"max-height:1000px;max-width:1500px;overflow:auto;\">\n",
       "<table border=\"1\" class=\"dataframe\">\n",
       "  <thead>\n",
       "    <tr style=\"text-align: right;\">\n",
       "      <th></th>\n",
       "      <th>Year</th>\n",
       "      <th>Player</th>\n",
       "      <th>Salary</th>\n",
       "      <th>Position</th>\n",
       "      <th>Team</th>\n",
       "    </tr>\n",
       "  </thead>\n",
       "  <tbody>\n",
       "    <tr>\n",
       "      <th>321  </th>\n",
       "      <td> 1988</td>\n",
       "      <td>       Gary Carter</td>\n",
       "      <td>  2360714</td>\n",
       "      <td>           Catcher</td>\n",
       "      <td>       New York Mets</td>\n",
       "    </tr>\n",
       "    <tr>\n",
       "      <th>908  </th>\n",
       "      <td> 1989</td>\n",
       "      <td>    Orel Hershiser</td>\n",
       "      <td>  2766666</td>\n",
       "      <td>           Pitcher</td>\n",
       "      <td> Los Angeles Dodgers</td>\n",
       "    </tr>\n",
       "    <tr>\n",
       "      <th>1580 </th>\n",
       "      <td> 1990</td>\n",
       "      <td>       Robin Yount</td>\n",
       "      <td>  3200000</td>\n",
       "      <td>        Outfielder</td>\n",
       "      <td>   Milwaukee Brewers</td>\n",
       "    </tr>\n",
       "    <tr>\n",
       "      <th>2590 </th>\n",
       "      <td> 1991</td>\n",
       "      <td> Darryl Strawberry</td>\n",
       "      <td>  3800000</td>\n",
       "      <td>        Outfielder</td>\n",
       "      <td> Los Angeles Dodgers</td>\n",
       "    </tr>\n",
       "    <tr>\n",
       "      <th>3441 </th>\n",
       "      <td> 1992</td>\n",
       "      <td>     Bobby Bonilla</td>\n",
       "      <td>  6100000</td>\n",
       "      <td>        Outfielder</td>\n",
       "      <td>       New York Mets</td>\n",
       "    </tr>\n",
       "    <tr>\n",
       "      <th>4214 </th>\n",
       "      <td> 1993</td>\n",
       "      <td>     Bobby Bonilla</td>\n",
       "      <td>  6200000</td>\n",
       "      <td>        Outfielder</td>\n",
       "      <td>       New York Mets</td>\n",
       "    </tr>\n",
       "    <tr>\n",
       "      <th>4977 </th>\n",
       "      <td> 1994</td>\n",
       "      <td>     Bobby Bonilla</td>\n",
       "      <td>  6300000</td>\n",
       "      <td>     Third Baseman</td>\n",
       "      <td>       New York Mets</td>\n",
       "    </tr>\n",
       "    <tr>\n",
       "      <th>6068 </th>\n",
       "      <td> 1995</td>\n",
       "      <td>     Cecil Fielder</td>\n",
       "      <td>  9237500</td>\n",
       "      <td>     First Baseman</td>\n",
       "      <td>      Detroit Tigers</td>\n",
       "    </tr>\n",
       "    <tr>\n",
       "      <th>6840 </th>\n",
       "      <td> 1996</td>\n",
       "      <td>     Cecil Fielder</td>\n",
       "      <td>  9237500</td>\n",
       "      <td>     First Baseman</td>\n",
       "      <td>      Detroit Tigers</td>\n",
       "    </tr>\n",
       "    <tr>\n",
       "      <th>7666 </th>\n",
       "      <td> 1997</td>\n",
       "      <td>      Albert Belle</td>\n",
       "      <td> 10000000</td>\n",
       "      <td>        Outfielder</td>\n",
       "      <td>   Chicago White Sox</td>\n",
       "    </tr>\n",
       "    <tr>\n",
       "      <th>8090 </th>\n",
       "      <td> 1998</td>\n",
       "      <td>    Gary Sheffield</td>\n",
       "      <td> 10000000</td>\n",
       "      <td>        Outfielder</td>\n",
       "      <td>     Florida Marlins</td>\n",
       "    </tr>\n",
       "    <tr>\n",
       "      <th>9067 </th>\n",
       "      <td> 1999</td>\n",
       "      <td>      Albert Belle</td>\n",
       "      <td> 11949794</td>\n",
       "      <td>        Outfielder</td>\n",
       "      <td>   Baltimore Orioles</td>\n",
       "    </tr>\n",
       "    <tr>\n",
       "      <th>9743 </th>\n",
       "      <td> 2000</td>\n",
       "      <td>    Kevin J. Brown</td>\n",
       "      <td> 15714286</td>\n",
       "      <td>           Pitcher</td>\n",
       "      <td> Los Angeles Dodgers</td>\n",
       "    </tr>\n",
       "    <tr>\n",
       "      <th>10903</th>\n",
       "      <td> 2001</td>\n",
       "      <td>    Alex Rodriguez</td>\n",
       "      <td> 22000000</td>\n",
       "      <td>         Shortstop</td>\n",
       "      <td>       Texas Rangers</td>\n",
       "    </tr>\n",
       "    <tr>\n",
       "      <th>11752</th>\n",
       "      <td> 2002</td>\n",
       "      <td>    Alex Rodriguez</td>\n",
       "      <td> 22000000</td>\n",
       "      <td>         Shortstop</td>\n",
       "      <td>       Texas Rangers</td>\n",
       "    </tr>\n",
       "    <tr>\n",
       "      <th>12589</th>\n",
       "      <td> 2003</td>\n",
       "      <td>    Alex Rodriguez</td>\n",
       "      <td> 22000000</td>\n",
       "      <td>         Shortstop</td>\n",
       "      <td>       Texas Rangers</td>\n",
       "    </tr>\n",
       "    <tr>\n",
       "      <th>13497</th>\n",
       "      <td> 2004</td>\n",
       "      <td>     Manny Ramirez</td>\n",
       "      <td> 22500000</td>\n",
       "      <td>        Outfielder</td>\n",
       "      <td>      Boston Red Sox</td>\n",
       "    </tr>\n",
       "    <tr>\n",
       "      <th>14499</th>\n",
       "      <td> 2005</td>\n",
       "      <td>    Alex Rodriguez</td>\n",
       "      <td> 26000000</td>\n",
       "      <td>     Third Baseman</td>\n",
       "      <td>    New York Yankees</td>\n",
       "    </tr>\n",
       "    <tr>\n",
       "      <th>15320</th>\n",
       "      <td> 2006</td>\n",
       "      <td>    Alex Rodriguez</td>\n",
       "      <td> 21680727</td>\n",
       "      <td>     Third Baseman</td>\n",
       "      <td>    New York Yankees</td>\n",
       "    </tr>\n",
       "    <tr>\n",
       "      <th>16167</th>\n",
       "      <td> 2007</td>\n",
       "      <td>      Jason Giambi</td>\n",
       "      <td> 23428571</td>\n",
       "      <td> Designated Hitter</td>\n",
       "      <td>    New York Yankees</td>\n",
       "    </tr>\n",
       "    <tr>\n",
       "      <th>17023</th>\n",
       "      <td> 2008</td>\n",
       "      <td>    Alex Rodriguez</td>\n",
       "      <td> 28000000</td>\n",
       "      <td>     Third Baseman</td>\n",
       "      <td>    New York Yankees</td>\n",
       "    </tr>\n",
       "    <tr>\n",
       "      <th>17846</th>\n",
       "      <td> 2009</td>\n",
       "      <td>    Alex Rodriguez</td>\n",
       "      <td> 33000000</td>\n",
       "      <td>     Third Baseman</td>\n",
       "      <td>    New York Yankees</td>\n",
       "    </tr>\n",
       "    <tr>\n",
       "      <th>18675</th>\n",
       "      <td> 2010</td>\n",
       "      <td>    Alex Rodriguez</td>\n",
       "      <td> 33000000</td>\n",
       "      <td>     Third Baseman</td>\n",
       "      <td>    New York Yankees</td>\n",
       "    </tr>\n",
       "    <tr>\n",
       "      <th>19513</th>\n",
       "      <td> 2011</td>\n",
       "      <td>    Alex Rodriguez</td>\n",
       "      <td> 32000000</td>\n",
       "      <td>     Third Baseman</td>\n",
       "      <td>    New York Yankees</td>\n",
       "    </tr>\n",
       "  </tbody>\n",
       "</table>\n",
       "</div>"
      ],
      "text/plain": [
       "       Year             Player    Salary           Position  \\\n",
       "321    1988        Gary Carter   2360714            Catcher   \n",
       "908    1989     Orel Hershiser   2766666            Pitcher   \n",
       "1580   1990        Robin Yount   3200000         Outfielder   \n",
       "2590   1991  Darryl Strawberry   3800000         Outfielder   \n",
       "3441   1992      Bobby Bonilla   6100000         Outfielder   \n",
       "4214   1993      Bobby Bonilla   6200000         Outfielder   \n",
       "4977   1994      Bobby Bonilla   6300000      Third Baseman   \n",
       "6068   1995      Cecil Fielder   9237500      First Baseman   \n",
       "6840   1996      Cecil Fielder   9237500      First Baseman   \n",
       "7666   1997       Albert Belle  10000000         Outfielder   \n",
       "8090   1998     Gary Sheffield  10000000         Outfielder   \n",
       "9067   1999       Albert Belle  11949794         Outfielder   \n",
       "9743   2000     Kevin J. Brown  15714286            Pitcher   \n",
       "10903  2001     Alex Rodriguez  22000000          Shortstop   \n",
       "11752  2002     Alex Rodriguez  22000000          Shortstop   \n",
       "12589  2003     Alex Rodriguez  22000000          Shortstop   \n",
       "13497  2004      Manny Ramirez  22500000         Outfielder   \n",
       "14499  2005     Alex Rodriguez  26000000      Third Baseman   \n",
       "15320  2006     Alex Rodriguez  21680727      Third Baseman   \n",
       "16167  2007       Jason Giambi  23428571  Designated Hitter   \n",
       "17023  2008     Alex Rodriguez  28000000      Third Baseman   \n",
       "17846  2009     Alex Rodriguez  33000000      Third Baseman   \n",
       "18675  2010     Alex Rodriguez  33000000      Third Baseman   \n",
       "19513  2011     Alex Rodriguez  32000000      Third Baseman   \n",
       "\n",
       "                      Team  \n",
       "321          New York Mets  \n",
       "908    Los Angeles Dodgers  \n",
       "1580     Milwaukee Brewers  \n",
       "2590   Los Angeles Dodgers  \n",
       "3441         New York Mets  \n",
       "4214         New York Mets  \n",
       "4977         New York Mets  \n",
       "6068        Detroit Tigers  \n",
       "6840        Detroit Tigers  \n",
       "7666     Chicago White Sox  \n",
       "8090       Florida Marlins  \n",
       "9067     Baltimore Orioles  \n",
       "9743   Los Angeles Dodgers  \n",
       "10903        Texas Rangers  \n",
       "11752        Texas Rangers  \n",
       "12589        Texas Rangers  \n",
       "13497       Boston Red Sox  \n",
       "14499     New York Yankees  \n",
       "15320     New York Yankees  \n",
       "16167     New York Yankees  \n",
       "17023     New York Yankees  \n",
       "17846     New York Yankees  \n",
       "18675     New York Yankees  \n",
       "19513     New York Yankees  "
      ]
     },
     "execution_count": 29,
     "metadata": {},
     "output_type": "execute_result"
    }
   ],
   "source": [
    "# loop through the generator object t and extract the top salaries\n",
    "for line in t:\n",
    "    topsalaries = topsalaries.append(line)\n",
    "    \n",
    "topsalaries    "
   ]
  },
  {
   "cell_type": "markdown",
   "metadata": {},
   "source": [
    "### Create series of topsalaries and performance plots"
   ]
  },
  {
   "cell_type": "code",
   "execution_count": 30,
   "metadata": {
    "collapsed": false
   },
   "outputs": [
    {
     "data": {
      "text/html": [
       "<div style=\"max-height:1000px;max-width:1500px;overflow:auto;\">\n",
       "<table border=\"1\" class=\"dataframe\">\n",
       "  <thead>\n",
       "    <tr style=\"text-align: right;\">\n",
       "      <th></th>\n",
       "      <th>Year</th>\n",
       "      <th>Salary</th>\n",
       "    </tr>\n",
       "  </thead>\n",
       "  <tbody>\n",
       "    <tr>\n",
       "      <th>321 </th>\n",
       "      <td> 1988</td>\n",
       "      <td> 2360714</td>\n",
       "    </tr>\n",
       "    <tr>\n",
       "      <th>908 </th>\n",
       "      <td> 1989</td>\n",
       "      <td> 2766666</td>\n",
       "    </tr>\n",
       "    <tr>\n",
       "      <th>1580</th>\n",
       "      <td> 1990</td>\n",
       "      <td> 3200000</td>\n",
       "    </tr>\n",
       "    <tr>\n",
       "      <th>2590</th>\n",
       "      <td> 1991</td>\n",
       "      <td> 3800000</td>\n",
       "    </tr>\n",
       "    <tr>\n",
       "      <th>3441</th>\n",
       "      <td> 1992</td>\n",
       "      <td> 6100000</td>\n",
       "    </tr>\n",
       "  </tbody>\n",
       "</table>\n",
       "</div>"
      ],
      "text/plain": [
       "      Year   Salary\n",
       "321   1988  2360714\n",
       "908   1989  2766666\n",
       "1580  1990  3200000\n",
       "2590  1991  3800000\n",
       "3441  1992  6100000"
      ]
     },
     "execution_count": 30,
     "metadata": {},
     "output_type": "execute_result"
    }
   ],
   "source": [
    "# subset 2 columns\n",
    "ts = topsalaries[['Year','Salary']]\n",
    "\n",
    "ts.head()"
   ]
  },
  {
   "cell_type": "code",
   "execution_count": 31,
   "metadata": {
    "collapsed": false
   },
   "outputs": [
    {
     "data": {
      "text/html": [
       "<div style=\"max-height:1000px;max-width:1500px;overflow:auto;\">\n",
       "<table border=\"1\" class=\"dataframe\">\n",
       "  <thead>\n",
       "    <tr style=\"text-align: right;\">\n",
       "      <th></th>\n",
       "      <th>Year</th>\n",
       "      <th>Salary</th>\n",
       "    </tr>\n",
       "    <tr>\n",
       "      <th>Year</th>\n",
       "      <th></th>\n",
       "      <th></th>\n",
       "    </tr>\n",
       "  </thead>\n",
       "  <tbody>\n",
       "    <tr>\n",
       "      <th>1988</th>\n",
       "      <td> 1988</td>\n",
       "      <td> 2360714</td>\n",
       "    </tr>\n",
       "    <tr>\n",
       "      <th>1989</th>\n",
       "      <td> 1989</td>\n",
       "      <td> 2766666</td>\n",
       "    </tr>\n",
       "    <tr>\n",
       "      <th>1990</th>\n",
       "      <td> 1990</td>\n",
       "      <td> 3200000</td>\n",
       "    </tr>\n",
       "  </tbody>\n",
       "</table>\n",
       "</div>"
      ],
      "text/plain": [
       "      Year   Salary\n",
       "Year               \n",
       "1988  1988  2360714\n",
       "1989  1989  2766666\n",
       "1990  1990  3200000"
      ]
     },
     "execution_count": 31,
     "metadata": {},
     "output_type": "execute_result"
    }
   ],
   "source": [
    "# set the Year as index\n",
    "ts = ts.set_index(ts.Year)\n",
    "\n",
    "ts.head(3)"
   ]
  },
  {
   "cell_type": "code",
   "execution_count": 37,
   "metadata": {
    "collapsed": false
   },
   "outputs": [
    {
     "name": "stdout",
     "output_type": "stream",
     "text": [
      "Populating the interactive namespace from numpy and matplotlib\n"
     ]
    }
   ],
   "source": [
    "import matplotlib\n",
    "\n",
    "# for making plots appear\n",
    "%pylab inline"
   ]
  },
  {
   "cell_type": "code",
   "execution_count": 38,
   "metadata": {
    "collapsed": false
   },
   "outputs": [
    {
     "data": {
      "text/plain": [
       "<matplotlib.axes._subplots.AxesSubplot at 0x7ffe03749410>"
      ]
     },
     "execution_count": 38,
     "metadata": {},
     "output_type": "execute_result"
    },
    {
     "data": {
      "image/png": "[encoded data removed]",
      "text/plain": [
       "<matplotlib.figure.Figure at 0x7ffe0375b0d0>"
      ]
     },
     "metadata": {},
     "output_type": "display_data"
    }
   ],
   "source": [
    "ts.plot()"
   ]
  },
  {
   "cell_type": "code",
   "execution_count": 39,
   "metadata": {
    "collapsed": false
   },
   "outputs": [
    {
     "data": {
      "text/plain": [
       "<matplotlib.axes._subplots.AxesSubplot at 0x7ffe035d14d0>"
      ]
     },
     "execution_count": 39,
     "metadata": {},
     "output_type": "execute_result"
    },
    {
     "data": {
      "image/png": "[encoded data removed]",
      "text/plain": [
       "<matplotlib.figure.Figure at 0x7ffe0355d290>"
      ]
     },
     "metadata": {},
     "output_type": "display_data"
    }
   ],
   "source": [
    "# apply the median() function, then plot results\n",
    "\n",
    "grouped['Salary'].median().plot()"
   ]
  },
  {
   "cell_type": "code",
   "execution_count": null,
   "metadata": {
    "collapsed": true
   },
   "outputs": [],
   "source": []
  },
  {
   "cell_type": "code",
   "execution_count": null,
   "metadata": {
    "collapsed": true
   },
   "outputs": [],
   "source": []
  }
 ],
 "metadata": {
  "kernelspec": {
   "display_name": "Python 2",
   "language": "python",
   "name": "python2"
  },
  "language_info": {
   "codemirror_mode": {
    "name": "ipython",
    "version": 2
   },
   "file_extension": ".py",
   "mimetype": "text/x-python",
   "name": "python",
   "nbconvert_exporter": "python",
   "pygments_lexer": "ipython2",
   "version": "2.7.9"
  }
 },
 "nbformat": 4,
 "nbformat_minor": 0
}
